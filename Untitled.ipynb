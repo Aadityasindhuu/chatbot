{
 "cells": [
  {
   "cell_type": "code",
   "execution_count": 1,
   "id": "315927bc-b7bd-484d-9e5c-5fa793e5a4ca",
   "metadata": {
    "scrolled": true
   },
   "outputs": [
    {
     "name": "stderr",
     "output_type": "stream",
     "text": [
      "ERROR: pip's dependency resolver does not currently take into account all the packages that are installed. This behaviour is the source of the following dependency conflicts.\n",
      "botocore 1.38.36 requires urllib3<1.27,>=1.25.4; python_version < \"3.10\", but you have urllib3 2.5.0 which is incompatible.\n",
      "snowflake-connector-python 3.15.0 requires urllib3<2.0.0,>=1.21.1; python_version < \"3.10\", but you have urllib3 2.5.0 which is incompatible.\n"
     ]
    }
   ],
   "source": [
    "# ✅ Cell 1: Install required packages (Run this first)\n",
    "!pip install -q gradio sentence-transformers"
   ]
  },
  {
   "cell_type": "code",
   "execution_count": 2,
   "id": "da5c5363-3929-45c5-ba45-a65ec33a38b1",
   "metadata": {},
   "outputs": [],
   "source": [
    "import gradio as gr\n",
    "import json\n",
    "from sentence_transformers import SentenceTransformer, util"
   ]
  },
  {
   "cell_type": "code",
   "execution_count": 3,
   "id": "17591c5f-395f-4657-a76b-b250f65a8c42",
   "metadata": {},
   "outputs": [],
   "source": [
    "model = SentenceTransformer(\"all-MiniLM-L6-v2\")\n"
   ]
  },
  {
   "cell_type": "code",
   "execution_count": 4,
   "id": "42245373-06d4-4a38-84c5-7c7771e2f528",
   "metadata": {},
   "outputs": [],
   "source": [
    "qa_list = []\n",
    "questions = []\n",
    "\n",
    "with open(\"answer.txt\", \"r\", encoding=\"utf-8\") as f:\n",
    "    for line in f:\n",
    "        try:\n",
    "            item = json.loads(line.strip())\n",
    "            qa_list.append(item)\n",
    "            questions.append(item[\"question\"])\n",
    "        except:\n",
    "            continue"
   ]
  },
  {
   "cell_type": "code",
   "execution_count": 5,
   "id": "4cd25285-66e6-4862-b475-ba7827f0deca",
   "metadata": {},
   "outputs": [],
   "source": [
    "question_embeddings = model.encode(questions, convert_to_tensor=True)"
   ]
  },
  {
   "cell_type": "code",
   "execution_count": 6,
   "id": "6cb439b4-0e5d-4299-8615-72b647803e97",
   "metadata": {},
   "outputs": [],
   "source": [
    "# ✅ Cell 6: Define the chatbot logic\n",
    "def chatbot(user_question):\n",
    "    query_embedding = model.encode(user_question, convert_to_tensor=True)\n",
    "    hits = util.semantic_search(query_embedding, question_embeddings, top_k=1)\n",
    "    best_match = hits[0][0]\n",
    "    idx = best_match[\"corpus_id\"]\n",
    "    matched_qa = qa_list[idx]\n",
    "    \n",
    "    return f\"**Answer:** {matched_qa['answer']}\\n\\n(Matched question: _{matched_qa['question']}_)\"\n"
   ]
  },
  {
   "cell_type": "code",
   "execution_count": 8,
   "id": "befc6b2a-808b-4bfd-aad0-e6f2c6885ee6",
   "metadata": {},
   "outputs": [
    {
     "name": "stdout",
     "output_type": "stream",
     "text": [
      "Running on local URL:  http://127.0.0.1:7861\n",
      "\n",
      "Could not create share link. Please check your internet connection or our status page: https://status.gradio.app.\n"
     ]
    },
    {
     "data": {
      "text/html": [
       "<div><iframe src=\"http://127.0.0.1:7861/\" width=\"100%\" height=\"500\" allow=\"autoplay; camera; microphone; clipboard-read; clipboard-write;\" frameborder=\"0\" allowfullscreen></iframe></div>"
      ],
      "text/plain": [
       "<IPython.core.display.HTML object>"
      ]
     },
     "metadata": {},
     "output_type": "display_data"
    },
    {
     "data": {
      "text/plain": []
     },
     "execution_count": 8,
     "metadata": {},
     "output_type": "execute_result"
    }
   ],
   "source": [
    "with gr.Blocks() as demo:\n",
    "    gr.Markdown(\"# 🤖 Aditya's AI Mentor Chatbot\")\n",
    "    gr.Markdown(\"Ask questions about AI, your projects, or the knowledge base!\")\n",
    "\n",
    "    question = gr.Textbox(label=\"Your Question\")\n",
    "    answer = gr.Markdown()\n",
    "    submit = gr.Button(\"Get Answer\")\n",
    "\n",
    "    submit.click(chatbot, inputs=question, outputs=answer)\n",
    "\n",
    "demo.launch(share=True)"
   ]
  },
  {
   "cell_type": "code",
   "execution_count": null,
   "id": "2d243132-2650-4ec4-a1ed-0a84d7278f1e",
   "metadata": {},
   "outputs": [],
   "source": []
  }
 ],
 "metadata": {
  "kernelspec": {
   "display_name": "Python 3 (ipykernel)",
   "language": "python",
   "name": "python3"
  },
  "language_info": {
   "codemirror_mode": {
    "name": "ipython",
    "version": 3
   },
   "file_extension": ".py",
   "mimetype": "text/x-python",
   "name": "python",
   "nbconvert_exporter": "python",
   "pygments_lexer": "ipython3",
   "version": "3.9.23"
  }
 },
 "nbformat": 4,
 "nbformat_minor": 5
}
